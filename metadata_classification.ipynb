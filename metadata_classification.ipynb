{
 "cells": [
  {
   "cell_type": "code",
   "execution_count": 1,
   "id": "488e0a03-e905-4f52-8526-f55d73bb1fe6",
   "metadata": {},
   "outputs": [],
   "source": [
    "import numpy as np\n",
    "import pandas as pd\n",
    "import os\n",
    "from utils.read_data import read_data\n",
    "num_cols = ['Gestation', 'Rectime', 'Age', 'Parity', 'Abortions', 'Weight',\n",
    "            'Hypertension', 'Diabetes', 'Placental_position',\n",
    "            'Bleeding_first_trimester', 'Bleeding_second_trimester', 'Funneling', 'Smoker']\n"
   ]
  },
  {
   "cell_type": "code",
   "execution_count": 2,
   "id": "08679ae8",
   "metadata": {},
   "outputs": [],
   "source": [
    "sig_file=[]\n",
    "data_file=[]"
   ]
  },
  {
   "cell_type": "code",
   "execution_count": 3,
   "id": "b2cb430c",
   "metadata": {},
   "outputs": [],
   "source": [
    "for file in os.listdir(\"dataset\"):\n",
    "    file_path=os.path.join(\"dataset\",file)\n",
    "    if file.endswith(\".hea\"):\n",
    "        data_file.append(file_path)\n",
    "    else:\n",
    "        sig_file.append(file_path)\n"
   ]
  },
  {
   "cell_type": "code",
   "execution_count": 4,
   "id": "b34d6e25",
   "metadata": {},
   "outputs": [],
   "source": [
    "all_metadata=[]\n",
    "all_label=[]\n",
    "for file in data_file:\n",
    "    metadata,label=read_data(file)\n",
    "    if metadata != None and label!=None:\n",
    "        all_metadata.append(metadata)\n",
    "        all_label.append(label[0])\n",
    "\n",
    "df=pd.DataFrame(all_metadata)\n"
   ]
  },
  {
   "cell_type": "markdown",
   "id": "91760b40",
   "metadata": {},
   "source": [
    "Cột\tÝ nghĩa\n",
    "Gestation\tTuổi thai tại lúc sinh, tính bằng tuần. Đây là một biến liên tục.\n",
    "Rectime\tTuổi thai tại thời điểm ghi dữ liệu (recording time), tính bằng tuần.\n",
    "Age\tTuổi của mẹ tại thời điểm mang thai, tính theo năm.\n",
    "Parity\tSố lần mẹ đã sinh con sống trước đó. Ví dụ, 0 nếu đây là lần sinh đầu tiên.\n",
    "Abortions\tSố lần mẹ bị sảy thai hoặc phá thai trước đó.\n",
    "Weight\tCân nặng của mẹ, thường tính bằng kg.\n",
    "Hypertension\tMẹ có bị tăng huyết áp hay không. 0 = không, 1 = có.\n",
    "Diabetes\tMẹ có bị tiểu đường hay không. 0 = không, 1 = có.\n",
    "Placental_position\tVị trí nhau thai: ví dụ 1 = phía trước (anterior), 0 = phía sau (posterior).\n",
    "Bleeding_first_trimester\tChảy máu trong 3 tháng đầu thai kỳ. 0 = không, 1 = có.\n",
    "Bleeding_second_trimester\tChảy máu trong 3 tháng giữa thai kỳ. 0 = không, 1 = có.\n",
    "Funneling\tFunneling cổ tử cung (cervical funneling) – dấu hiệu nguy cơ sinh non. 0 = không, 1 = có.\n",
    "Smoker\tMẹ có hút thuốc hay không. 0 = không, 1 = có."
   ]
  },
  {
   "cell_type": "code",
   "execution_count": 5,
   "id": "ca926a62",
   "metadata": {},
   "outputs": [
    {
     "name": "stdout",
     "output_type": "stream",
     "text": [
      "<class 'pandas.core.frame.DataFrame'>\n",
      "RangeIndex: 159 entries, 0 to 158\n",
      "Data columns (total 13 columns):\n",
      " #   Column                     Non-Null Count  Dtype \n",
      "---  ------                     --------------  ----- \n",
      " 0   Gestation                  159 non-null    object\n",
      " 1   Rectime                    159 non-null    object\n",
      " 2   Age                        159 non-null    object\n",
      " 3   Parity                     159 non-null    object\n",
      " 4   Abortions                  159 non-null    object\n",
      " 5   Weight                     159 non-null    object\n",
      " 6   Hypertension               138 non-null    object\n",
      " 7   Diabetes                   138 non-null    object\n",
      " 8   Placental_position         159 non-null    object\n",
      " 9   Bleeding_first_trimester   138 non-null    object\n",
      " 10  Bleeding_second_trimester  138 non-null    object\n",
      " 11  Funneling                  138 non-null    object\n",
      " 12  Smoker                     159 non-null    object\n",
      "dtypes: object(13)\n",
      "memory usage: 16.3+ KB\n"
     ]
    }
   ],
   "source": [
    "df.info()"
   ]
  },
  {
   "cell_type": "code",
   "execution_count": 6,
   "id": "e4f65782",
   "metadata": {},
   "outputs": [],
   "source": [
    "df=df[['Rectime','Age','Parity','Abortions','Weight','Bleeding_first_trimester','Bleeding_second_trimester','Smoker']]"
   ]
  },
  {
   "cell_type": "code",
   "execution_count": 12,
   "id": "5494c1e2",
   "metadata": {},
   "outputs": [],
   "source": [
    "df = df.replace('None', np.nan)"
   ]
  },
  {
   "cell_type": "code",
   "execution_count": 13,
   "id": "0f9fabb8",
   "metadata": {},
   "outputs": [
    {
     "data": {
      "text/html": [
       "<div>\n",
       "<style scoped>\n",
       "    .dataframe tbody tr th:only-of-type {\n",
       "        vertical-align: middle;\n",
       "    }\n",
       "\n",
       "    .dataframe tbody tr th {\n",
       "        vertical-align: top;\n",
       "    }\n",
       "\n",
       "    .dataframe thead th {\n",
       "        text-align: right;\n",
       "    }\n",
       "</style>\n",
       "<table border=\"1\" class=\"dataframe\">\n",
       "  <thead>\n",
       "    <tr style=\"text-align: right;\">\n",
       "      <th></th>\n",
       "      <th>Rectime</th>\n",
       "      <th>Age</th>\n",
       "      <th>Parity</th>\n",
       "      <th>Abortions</th>\n",
       "      <th>Weight</th>\n",
       "      <th>Bleeding_first_trimester</th>\n",
       "      <th>Bleeding_second_trimester</th>\n",
       "      <th>Smoker</th>\n",
       "    </tr>\n",
       "  </thead>\n",
       "  <tbody>\n",
       "    <tr>\n",
       "      <th>154</th>\n",
       "      <td>32.6</td>\n",
       "      <td>25</td>\n",
       "      <td>NaN</td>\n",
       "      <td>NaN</td>\n",
       "      <td>76</td>\n",
       "      <td>no</td>\n",
       "      <td>no</td>\n",
       "      <td>NaN</td>\n",
       "    </tr>\n",
       "    <tr>\n",
       "      <th>155</th>\n",
       "      <td>31</td>\n",
       "      <td>37</td>\n",
       "      <td>2</td>\n",
       "      <td>1</td>\n",
       "      <td>65</td>\n",
       "      <td>no</td>\n",
       "      <td>no</td>\n",
       "      <td>no</td>\n",
       "    </tr>\n",
       "    <tr>\n",
       "      <th>156</th>\n",
       "      <td>30.6</td>\n",
       "      <td>NaN</td>\n",
       "      <td>NaN</td>\n",
       "      <td>NaN</td>\n",
       "      <td>76</td>\n",
       "      <td>no</td>\n",
       "      <td>no</td>\n",
       "      <td>NaN</td>\n",
       "    </tr>\n",
       "    <tr>\n",
       "      <th>157</th>\n",
       "      <td>31.3</td>\n",
       "      <td>20</td>\n",
       "      <td>0</td>\n",
       "      <td>0</td>\n",
       "      <td>80</td>\n",
       "      <td>no</td>\n",
       "      <td>no</td>\n",
       "      <td>no</td>\n",
       "    </tr>\n",
       "    <tr>\n",
       "      <th>158</th>\n",
       "      <td>31.1</td>\n",
       "      <td>35</td>\n",
       "      <td>0</td>\n",
       "      <td>NaN</td>\n",
       "      <td>NaN</td>\n",
       "      <td>NaN</td>\n",
       "      <td>NaN</td>\n",
       "      <td>NaN</td>\n",
       "    </tr>\n",
       "  </tbody>\n",
       "</table>\n",
       "</div>"
      ],
      "text/plain": [
       "    Rectime  Age Parity Abortions Weight Bleeding_first_trimester  \\\n",
       "154    32.6   25    NaN       NaN     76                       no   \n",
       "155      31   37      2         1     65                       no   \n",
       "156    30.6  NaN    NaN       NaN     76                       no   \n",
       "157    31.3   20      0         0     80                       no   \n",
       "158    31.1   35      0       NaN    NaN                      NaN   \n",
       "\n",
       "    Bleeding_second_trimester Smoker  \n",
       "154                        no    NaN  \n",
       "155                        no     no  \n",
       "156                        no    NaN  \n",
       "157                        no     no  \n",
       "158                       NaN    NaN  "
      ]
     },
     "execution_count": 13,
     "metadata": {},
     "output_type": "execute_result"
    }
   ],
   "source": [
    "df.tail()"
   ]
  },
  {
   "cell_type": "code",
   "execution_count": 14,
   "id": "1e02d3ad",
   "metadata": {},
   "outputs": [],
   "source": [
    "df.to_csv('du_lieu.csv', index=False, encoding='utf-8')\n"
   ]
  },
  {
   "cell_type": "code",
   "execution_count": 12,
   "id": "8d8aae3c",
   "metadata": {},
   "outputs": [],
   "source": [
    "for col in num_cols:\n",
    "    df[col] = pd.to_numeric(df[col], errors='coerce')\n",
    "\n",
    "for col in df.columns:\n",
    "    mode_val = df[col].mode()\n",
    "    if len(mode_val) > 0:\n",
    "        df[col] = df[col].fillna(mode_val[0])\n",
    "    else:\n",
    "        df[col] = df[col].fillna(0)\n",
    "\n"
   ]
  },
  {
   "cell_type": "code",
   "execution_count": 94,
   "id": "566a4af4",
   "metadata": {},
   "outputs": [],
   "source": [
    "import numpy as np\n",
    "from sklearn.model_selection import KFold\n",
    "from sklearn.preprocessing import StandardScaler\n",
    "from sklearn.linear_model import LogisticRegression\n",
    "from sklearn.metrics import roc_auc_score"
   ]
  },
  {
   "cell_type": "code",
   "execution_count": 106,
   "id": "7e376098",
   "metadata": {},
   "outputs": [],
   "source": [
    "X_values=df.values\n",
    "y_values=np.array(all_label)"
   ]
  },
  {
   "cell_type": "code",
   "execution_count": 107,
   "id": "5e801b8d",
   "metadata": {},
   "outputs": [
    {
     "data": {
      "text/plain": [
       "(159,)"
      ]
     },
     "execution_count": 107,
     "metadata": {},
     "output_type": "execute_result"
    }
   ],
   "source": [
    "y_values.shape"
   ]
  },
  {
   "cell_type": "code",
   "execution_count": 128,
   "id": "6ada4f78",
   "metadata": {},
   "outputs": [],
   "source": [
    "y_test_all = []\n",
    "y_hat_all = []\n",
    "\n",
    "kf = KFold(n_splits=5, shuffle=True, random_state=42)"
   ]
  },
  {
   "cell_type": "code",
   "execution_count": 129,
   "id": "0697fdf7",
   "metadata": {},
   "outputs": [
    {
     "name": "stdout",
     "output_type": "stream",
     "text": [
      "Mean AUC over 20x5 folds: 0.9990\n"
     ]
    }
   ],
   "source": [
    "for repeat in range(1):\n",
    "    for train_index, test_index in kf.split(X_values):\n",
    "        X_train, X_test = X_values[train_index], X_values[test_index]\n",
    "        y_train, y_test = y_values[train_index], y_values[test_index]\n",
    "\n",
    "        scaler = StandardScaler()\n",
    "        X_train_scaled = scaler.fit_transform(X_train)\n",
    "        X_test_scaled = scaler.transform(X_test)\n",
    "\n",
    "        model = LogisticRegression(penalty='l1', solver='saga', max_iter=1000)\n",
    "        model.fit(X_train_scaled, y_train)\n",
    "\n",
    "        y_hat = model.predict_proba(X_test_scaled)[:, 1]\n",
    "        \n",
    "\n",
    "        y_test_all.extend(y_test)\n",
    "        y_hat_all.extend(y_hat)\n",
    "\n",
    "auc = roc_auc_score(y_test_all, y_hat_all)\n",
    "print(f'Mean AUC over 20x5 folds: {auc:.4f}')"
   ]
  },
  {
   "cell_type": "code",
   "execution_count": null,
   "id": "40969fbf",
   "metadata": {},
   "outputs": [],
   "source": []
  }
 ],
 "metadata": {
  "kernelspec": {
   "display_name": "TRONG",
   "language": "python",
   "name": "python3"
  },
  "language_info": {
   "codemirror_mode": {
    "name": "ipython",
    "version": 3
   },
   "file_extension": ".py",
   "mimetype": "text/x-python",
   "name": "python",
   "nbconvert_exporter": "python",
   "pygments_lexer": "ipython3",
   "version": "3.8.18"
  }
 },
 "nbformat": 4,
 "nbformat_minor": 5
}
