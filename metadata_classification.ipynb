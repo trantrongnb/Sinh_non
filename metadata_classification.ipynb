{
 "cells": [
  {
   "cell_type": "code",
   "execution_count": 1,
   "id": "488e0a03-e905-4f52-8526-f55d73bb1fe6",
   "metadata": {},
   "outputs": [],
   "source": [
    "import numpy as np\n",
    "import pandas as pd\n",
    "import os\n",
    "from utils.read_EMR import read_EMR"
   ]
  },
  {
   "cell_type": "code",
   "execution_count": 2,
   "id": "433a15da",
   "metadata": {},
   "outputs": [],
   "source": [
    "folder_path=\"dataset\"\n",
    "all_Labels,all_EMR_data,all_Name_files=read_EMR(folder_path)"
   ]
  },
  {
   "cell_type": "code",
   "execution_count": null,
   "id": "bd736447",
   "metadata": {},
   "outputs": [],
   "source": []
  },
  {
   "cell_type": "code",
   "execution_count": null,
   "id": "40feb9e6",
   "metadata": {},
   "outputs": [],
   "source": []
  },
  {
   "cell_type": "code",
   "execution_count": null,
   "id": "a8d9216b",
   "metadata": {},
   "outputs": [],
   "source": []
  },
  {
   "cell_type": "code",
   "execution_count": null,
   "id": "7d91f99d",
   "metadata": {},
   "outputs": [],
   "source": []
  },
  {
   "cell_type": "code",
   "execution_count": null,
   "id": "1dfc9b07",
   "metadata": {},
   "outputs": [],
   "source": []
  },
  {
   "cell_type": "code",
   "execution_count": null,
   "id": "ec4f2ffb",
   "metadata": {},
   "outputs": [],
   "source": []
  },
  {
   "cell_type": "markdown",
   "id": "91760b40",
   "metadata": {},
   "source": [
    "Cột\tÝ nghĩa\n",
    "Gestation\tTuổi thai tại lúc sinh, tính bằng tuần. Đây là một biến liên tục.\n",
    "Rectime\tTuổi thai tại thời điểm ghi dữ liệu (recording time), tính bằng tuần.\n",
    "Age\tTuổi của mẹ tại thời điểm mang thai, tính theo năm.\n",
    "Parity\tSố lần mẹ đã sinh con sống trước đó. Ví dụ, 0 nếu đây là lần sinh đầu tiên.\n",
    "Abortions\tSố lần mẹ bị sảy thai hoặc phá thai trước đó.\n",
    "Weight\tCân nặng của mẹ, thường tính bằng kg.\n",
    "Hypertension\tMẹ có bị tăng huyết áp hay không. 0 = không, 1 = có.\n",
    "Diabetes\tMẹ có bị tiểu đường hay không. 0 = không, 1 = có.\n",
    "Placental_position\tVị trí nhau thai: ví dụ 1 = phía trước (anterior), 0 = phía sau (posterior).\n",
    "Bleeding_first_trimester\tChảy máu trong 3 tháng đầu thai kỳ. 0 = không, 1 = có.\n",
    "Bleeding_second_trimester\tChảy máu trong 3 tháng giữa thai kỳ. 0 = không, 1 = có.\n",
    "Funneling\tFunneling cổ tử cung (cervical funneling) – dấu hiệu nguy cơ sinh non. 0 = không, 1 = có.\n",
    "Smoker\tMẹ có hút thuốc hay không. 0 = không, 1 = có."
   ]
  },
  {
   "cell_type": "code",
   "execution_count": 28,
   "id": "8d8aae3c",
   "metadata": {},
   "outputs": [],
   "source": [
    "for col in num_cols:\n",
    "    df[col] = pd.to_numeric(df[col], errors='coerce')\n",
    "\n",
    "for col in df.columns:\n",
    "    mode_val = df[col].mode()\n",
    "    if len(mode_val) > 0:\n",
    "        df[col] = df[col].fillna(mode_val[0])\n",
    "    else:\n",
    "        df[col] = df[col].fillna(0)\n",
    "\n"
   ]
  },
  {
   "cell_type": "code",
   "execution_count": 30,
   "id": "f4ebcdcd",
   "metadata": {},
   "outputs": [],
   "source": [
    "df.to_csv('data.csv', index=False, encoding='utf-8')"
   ]
  },
  {
   "cell_type": "code",
   "execution_count": 29,
   "id": "71bdec75",
   "metadata": {},
   "outputs": [
    {
     "name": "stdout",
     "output_type": "stream",
     "text": [
      "<class 'pandas.core.frame.DataFrame'>\n",
      "RangeIndex: 159 entries, 0 to 158\n",
      "Data columns (total 8 columns):\n",
      " #   Column                     Non-Null Count  Dtype  \n",
      "---  ------                     --------------  -----  \n",
      " 0   Rectime                    159 non-null    float64\n",
      " 1   Age                        159 non-null    float64\n",
      " 2   Parity                     159 non-null    float64\n",
      " 3   Abortions                  159 non-null    float64\n",
      " 4   Weight                     159 non-null    float64\n",
      " 5   Bleeding_first_trimester   159 non-null    float64\n",
      " 6   Bleeding_second_trimester  159 non-null    float64\n",
      " 7   Smoker                     159 non-null    float64\n",
      "dtypes: float64(8)\n",
      "memory usage: 10.1 KB\n"
     ]
    }
   ],
   "source": [
    "df.info()"
   ]
  },
  {
   "cell_type": "code",
   "execution_count": null,
   "id": "566a4af4",
   "metadata": {},
   "outputs": [],
   "source": [
    "import numpy as np\n",
    "from sklearn.model_selection import KFold\n",
    "from sklearn.preprocessing import StandardScaler\n",
    "from sklearn.linear_model import LogisticRegression\n",
    "from sklearn.metrics import roc_auc_score"
   ]
  },
  {
   "cell_type": "code",
   "execution_count": null,
   "id": "d47daae9",
   "metadata": {},
   "outputs": [],
   "source": [
    "df.to_csv('data.csv', index=False, encoding='utf-8')"
   ]
  },
  {
   "cell_type": "code",
   "execution_count": null,
   "id": "7e376098",
   "metadata": {},
   "outputs": [],
   "source": [
    "X_values=df.values\n",
    "y_values=np.array(all_label)"
   ]
  },
  {
   "cell_type": "code",
   "execution_count": null,
   "id": "5e801b8d",
   "metadata": {},
   "outputs": [],
   "source": [
    "y_values.shape"
   ]
  },
  {
   "cell_type": "code",
   "execution_count": null,
   "id": "6ada4f78",
   "metadata": {},
   "outputs": [],
   "source": [
    "y_test_all = []\n",
    "y_hat_all = []\n",
    "\n",
    "kf = KFold(n_splits=5, shuffle=True, random_state=42)"
   ]
  },
  {
   "cell_type": "code",
   "execution_count": null,
   "id": "0697fdf7",
   "metadata": {},
   "outputs": [],
   "source": [
    "for repeat in range(10):\n",
    "    for train_index, test_index in kf.split(X_values):\n",
    "        X_train, X_test = X_values[train_index], X_values[test_index]\n",
    "        y_train, y_test = y_values[train_index], y_values[test_index]\n",
    "\n",
    "        scaler = StandardScaler()\n",
    "        X_train_scaled = scaler.fit_transform(X_train)\n",
    "        X_test_scaled = scaler.transform(X_test)\n",
    "\n",
    "        model = LogisticRegression(penalty='l1', solver='saga', max_iter=1000)\n",
    "        model.fit(X_train_scaled, y_train)\n",
    "\n",
    "        y_hat = model.predict_proba(X_test_scaled)[:, 1]\n",
    "        \n",
    "\n",
    "        y_test_all.extend(y_test)\n",
    "        y_hat_all.extend(y_hat)\n",
    "\n",
    "auc = roc_auc_score(y_test_all, y_hat_all)\n",
    "print(f'Mean AUC over 20x5 folds: {auc:.4f}')"
   ]
  }
 ],
 "metadata": {
  "kernelspec": {
   "display_name": "TRONG",
   "language": "python",
   "name": "python3"
  },
  "language_info": {
   "codemirror_mode": {
    "name": "ipython",
    "version": 3
   },
   "file_extension": ".py",
   "mimetype": "text/x-python",
   "name": "python",
   "nbconvert_exporter": "python",
   "pygments_lexer": "ipython3",
   "version": "3.8.18"
  }
 },
 "nbformat": 4,
 "nbformat_minor": 5
}
