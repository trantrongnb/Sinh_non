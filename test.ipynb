{
 "cells": [
  {
   "cell_type": "code",
   "execution_count": 1,
   "id": "13b5cd5f-86ac-492b-9a3a-97970cd850dd",
   "metadata": {},
   "outputs": [
    {
     "name": "stdout",
     "output_type": "stream",
     "text": [
      "torng\n"
     ]
    }
   ],
   "source": [
    "print(\"torng\")"
   ]
  },
  {
   "cell_type": "code",
   "execution_count": 2,
   "id": "35e0ca31",
   "metadata": {},
   "outputs": [
    {
     "name": "stdout",
     "output_type": "stream",
     "text": [
      "tpehg546m 12 20 35260\n",
      "tpehg546m.mat 16+24 13107/mV 16 0 6948 4636 0 1\n",
      "tpehg546m.mat 16+24 13107/mV 16 0 182 15703 0 1_DOCFILT-4-0.08-4\n",
      "tpehg546m.mat 16+24 13107/mV 16 0 54 14983 0 1_DOCFILT-4-0.3-3\n",
      "tpehg546m.mat 16+24 13107/mV 16 0 146 17488 0 1_DOCFILT-4-0.3-4\n",
      "tpehg546m.mat 16+24 13107/mV 16 0 1323 16202 0 2\n",
      "tpehg546m.mat 16+24 13107/mV 16 0 43 11414 0 2_DOCFILT-4-0.08-4\n",
      "tpehg546m.mat 16+24 13107/mV 16 0 10 2569 0 2_DOCFILT-4-0.3-3\n",
      "tpehg546m.mat 16+24 13107/mV 16 0 28 3181 0 2_DOCFILT-4-0.3-4\n",
      "tpehg546m.mat 16+24 13107/mV 16 0 -5888 13411 0 3\n",
      "tpehg546m.mat 16+24 13107/mV 16 0 -150 -5237 0 3_DOCFILT-4-0.08-4\n",
      "tpehg546m.mat 16+24 13107/mV 16 0 -45 -13045 0 3_DOCFILT-4-0.3-3\n",
      "tpehg546m.mat 16+24 13107/mV 16 0 -123 -14989 0 3_DOCFILT-4-0.3-4\n",
      "#Comments:\n",
      "#    RecID 546\n",
      "#    Gestation 31\n",
      "#    Rectime 23.1\n",
      "#    Age 31\n",
      "#    Parity 0\n",
      "#    Abortions 1\n",
      "#    Weight 58\n",
      "#    Hypertension no\n",
      "#    Diabetes no\n",
      "#    Placental_position end\n",
      "#    Bleeding_first_trimester yes\n",
      "#    Bleeding_second_trimester no\n",
      "#    Funneling negative\n",
      "#    Smoker no\n",
      "#Creator: wfdb2mat\n",
      "#Source: record tpehgdb/tpehgdb/tpehg546\n",
      "\n"
     ]
    }
   ],
   "source": [
    "file_path = '/Users/trong/Desktop/project_sinh_san/dataset/tpehg546m.hea'\n",
    "\n",
    "with open(file_path, 'r') as f:\n",
    "    content = f.read()\n",
    "\n",
    "print(content)"
   ]
  },
  {
   "cell_type": "code",
   "execution_count": 6,
   "id": "d39d75c6",
   "metadata": {},
   "outputs": [
    {
     "name": "stdout",
     "output_type": "stream",
     "text": [
      "(12, 35260)\n"
     ]
    }
   ],
   "source": [
    "from scipy.io import loadmat\n",
    "\n",
    "file_path = '/Users/trong/Desktop/project_sinh_san/dataset/tpehg546m.mat'\n",
    "\n",
    "data = loadmat(file_path)\n",
    "print(data['val'].shape)"
   ]
  },
  {
   "cell_type": "code",
   "execution_count": null,
   "id": "d1df3441",
   "metadata": {},
   "outputs": [],
   "source": []
  }
 ],
 "metadata": {
  "kernelspec": {
   "display_name": "TRONG",
   "language": "python",
   "name": "python3"
  },
  "language_info": {
   "codemirror_mode": {
    "name": "ipython",
    "version": 3
   },
   "file_extension": ".py",
   "mimetype": "text/x-python",
   "name": "python",
   "nbconvert_exporter": "python",
   "pygments_lexer": "ipython3",
   "version": "3.8.18"
  }
 },
 "nbformat": 4,
 "nbformat_minor": 5
}
