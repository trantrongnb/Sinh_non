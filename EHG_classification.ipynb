{
 "cells": [
  {
   "cell_type": "code",
   "execution_count": null,
   "id": "11436b78",
   "metadata": {},
   "outputs": [],
   "source": [
    "import numpy as np\n",
    "import pandas as pd\n",
    "import matplotlib.pyplot as plt\n",
    "from utils.read_EHG import read_EHG"
   ]
  },
  {
   "cell_type": "code",
   "execution_count": null,
   "id": "19940646",
   "metadata": {},
   "outputs": [],
   "source": [
    "folder_path=\"Dataset\"\n",
    "all_labels,all_metadatas,all_ehgdatas=read_EHG(folder_path)"
   ]
  }
 ],
 "metadata": {
  "kernelspec": {
   "display_name": "TRONG",
   "language": "python",
   "name": "python3"
  },
  "language_info": {
   "codemirror_mode": {
    "name": "ipython",
    "version": 3
   },
   "file_extension": ".py",
   "mimetype": "text/x-python",
   "name": "python",
   "nbconvert_exporter": "python",
   "pygments_lexer": "ipython3",
   "version": "3.8.18"
  }
 },
 "nbformat": 4,
 "nbformat_minor": 5
}
