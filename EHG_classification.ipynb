{
 "cells": [
  {
   "cell_type": "code",
   "execution_count": 6,
   "id": "7e1923fe-0667-432f-b945-3c3a515d9ed9",
   "metadata": {},
   "outputs": [
    {
     "name": "stdout",
     "output_type": "stream",
     "text": [
      "Start\n"
     ]
    }
   ],
   "source": [
    "print(\"Start\")"
   ]
  },
  {
   "cell_type": "code",
   "execution_count": 7,
   "id": "11436b78",
   "metadata": {},
   "outputs": [],
   "source": [
    "import numpy as np\n",
    "import pandas as pd\n",
    "import matplotlib.pyplot as plt\n",
    "from utils.preprocessFile import preprocessFile"
   ]
  },
  {
   "cell_type": "code",
   "execution_count": 8,
   "id": "eae1238d",
   "metadata": {},
   "outputs": [],
   "source": [
    "from scipy.io import loadmat\n",
    "import os"
   ]
  },
  {
   "cell_type": "code",
   "execution_count": 9,
   "id": "ebd3268a",
   "metadata": {},
   "outputs": [],
   "source": [
    "sig_file=[]\n",
    "data_file=[]"
   ]
  },
  {
   "cell_type": "code",
   "execution_count": 10,
   "id": "89c26f07",
   "metadata": {},
   "outputs": [],
   "source": [
    "for file in sorted(os.listdir(\"dataset\")):\n",
    "    file_path=os.path.join(\"dataset\",file)\n",
    "    if file.endswith(\".hea\"):\n",
    "        data_file.append(file_path)\n",
    "    else:\n",
    "        sig_file.append(file_path)\n"
   ]
  },
  {
   "cell_type": "code",
   "execution_count": 11,
   "id": "290bf0ba",
   "metadata": {},
   "outputs": [],
   "source": [
    "import numpy as np\n",
    "from scipy.signal import stft, windows"
   ]
  },
  {
   "cell_type": "code",
   "execution_count": 13,
   "id": "fd8d0f61",
   "metadata": {},
   "outputs": [],
   "source": [
    "all_ehgdata=[]\n",
    "labels=[]\n",
    "for file_hea,file_mat in zip(data_file,sig_file):\n",
    "    meta_data,label,downsample_signal, t_downsample=preprocessFile(file_hea,file_mat)\n",
    "    if meta_data is not None:\n",
    "        labels.append(label[0])\n",
    "        # 1. Cắt tín hiệu về đúng 30 phút\n",
    "        max_time = 30 * 60  # 30 phút = 1800 giây\n",
    "        if t_downsample[-1] > max_time:\n",
    "            idx = np.argmin(np.abs(t_downsample - max_time))\n",
    "            t_downsample = t_downsample[:idx+1]\n",
    "            # MATLAB chọn kênh số 3 => Python là chỉ số 2\n",
    "            downsample_signal = downsample_signal[:idx+1, 2]\n",
    "        else:\n",
    "            downsample_signal = downsample_signal[:, 2]\n",
    "\n",
    "        #2. Tính tần số lấy mẫu\n",
    "        fs = 1.0 / (t_downsample[1] - t_downsample[0])\n",
    "\n",
    "        #3. Tính chiều dài cửa sổ\n",
    "        f0 = 0.1\n",
    "        window_length = round(fs / f0 * 6)\n",
    "        window = windows.hamming(window_length)\n",
    "\n",
    "        #4. Tính STFT\n",
    "        f, t_spec, Zxx = stft(\n",
    "            downsample_signal,\n",
    "            fs=fs,\n",
    "            window=window,\n",
    "            nperseg=window_length,\n",
    "            noverlap=window_length//2,\n",
    "            boundary=None,\n",
    "            padded=False\n",
    "        )\n",
    "\n",
    "        # 5. Biến về log(abs)\n",
    "        s = np.log(np.abs(Zxx) + 1e-8)   # tránh log(0)\n",
    "\n",
    "        # 6. Zero-pad theo thời gian (cột)\n",
    "        target_cols = 106\n",
    "        if s.shape[1] < target_cols:\n",
    "            pad_cols = target_cols - s.shape[1]\n",
    "            s = np.hstack([s, np.zeros((s.shape[0], pad_cols))])\n",
    "\n",
    "        #7. Lấy nửa phổ dương\n",
    "        mid = s.shape[0] // 2\n",
    "        s_half = s[mid:, :target_cols]\n",
    "        all_ehgdata.append(s_half)  \n",
    "     "
   ]
  },
  {
   "cell_type": "code",
   "execution_count": 16,
   "id": "75df7599",
   "metadata": {},
   "outputs": [],
   "source": [
    "import torch\n",
    "import torch.nn as nn\n",
    "import torch.optim as optim\n",
    "from sklearn.model_selection import StratifiedKFold\n",
    "from sklearn.metrics import roc_auc_score\n",
    "import numpy as np\n",
    "\n",
    "# all_ehgdata.shape = (159, 151, 106)\n",
    "# labels.shape = (159,)\n",
    "# Convert sang tensor\n",
    "X = torch.tensor(all_ehgdata, dtype=torch.float32) \n",
    "y = torch.tensor(labels, dtype=torch.long)         "
   ]
  }
 ],
 "metadata": {
  "kernelspec": {
   "display_name": "TRONG",
   "language": "python",
   "name": "python3"
  },
  "language_info": {
   "codemirror_mode": {
    "name": "ipython",
    "version": 3
   },
   "file_extension": ".py",
   "mimetype": "text/x-python",
   "name": "python",
   "nbconvert_exporter": "python",
   "pygments_lexer": "ipython3",
   "version": "3.8.18"
  }
 },
 "nbformat": 4,
 "nbformat_minor": 5
}
