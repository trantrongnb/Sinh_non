{
 "cells": [
  {
   "cell_type": "code",
   "execution_count": null,
   "id": "7e1923fe-0667-432f-b945-3c3a515d9ed9",
   "metadata": {},
   "outputs": [],
   "source": []
  }
 ],
 "metadata": {
  "kernelspec": {
   "display_name": "",
   "name": ""
  },
  "language_info": {
   "name": ""
  }
 },
 "nbformat": 4,
 "nbformat_minor": 5
}
